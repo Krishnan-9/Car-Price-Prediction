{
 "cells": [
  {
   "cell_type": "markdown",
   "metadata": {},
   "source": [
    "# Car Price Prediction\n",
    "This is a very simple, beginner level application of linear regression model using Scikit-learn. Here we will use the UCI automobile data to predict car prices. link: https://archive.ics.uci.edu/ml/datasets/automobile"
   ]
  },
  {
   "cell_type": "markdown",
   "metadata": {},
   "source": [
    "We begin by importing the required modules"
   ]
  },
  {
   "cell_type": "code",
   "execution_count": 1,
   "metadata": {},
   "outputs": [],
   "source": [
    "import pandas as pd\n",
    "import numpy as np\n",
    "import seaborn as sns\n",
    "import matplotlib.pyplot as plt\n",
    "np.random.seed(1)\n",
    "from sklearn.linear_model import LinearRegression\n",
    "from sklearn.metrics import mean_squared_error\n",
    "from sklearn.model_selection import cross_val_score, KFold\n",
    "import statistics as st"
   ]
  },
  {
   "cell_type": "code",
   "execution_count": 2,
   "metadata": {},
   "outputs": [
    {
     "name": "stdout",
     "output_type": "stream",
     "text": [
      "<class 'pandas.core.frame.DataFrame'>\n",
      "RangeIndex: 205 entries, 0 to 204\n",
      "Data columns (total 26 columns):\n",
      " #   Column             Non-Null Count  Dtype  \n",
      "---  ------             --------------  -----  \n",
      " 0   symboling          205 non-null    int64  \n",
      " 1   normalized-losses  205 non-null    object \n",
      " 2   make               205 non-null    object \n",
      " 3   fuel-type          205 non-null    object \n",
      " 4   aspiration         205 non-null    object \n",
      " 5   num-of-doors       205 non-null    object \n",
      " 6   body-style         205 non-null    object \n",
      " 7   drive-wheels       205 non-null    object \n",
      " 8   engine-location    205 non-null    object \n",
      " 9   wheel-base         205 non-null    float64\n",
      " 10  length             205 non-null    float64\n",
      " 11  width              205 non-null    float64\n",
      " 12  height             205 non-null    float64\n",
      " 13  curb-weight        205 non-null    int64  \n",
      " 14  engine-type        205 non-null    object \n",
      " 15  num-of-cylinders   205 non-null    object \n",
      " 16  engine-size        205 non-null    int64  \n",
      " 17  fuel-system        205 non-null    object \n",
      " 18  bore               205 non-null    object \n",
      " 19  stroke             205 non-null    object \n",
      " 20  compression-rate   205 non-null    float64\n",
      " 21  horsepower         205 non-null    object \n",
      " 22  peak-rpm           205 non-null    object \n",
      " 23  city-mpg           205 non-null    int64  \n",
      " 24  highway-mpg        205 non-null    int64  \n",
      " 25  price              205 non-null    object \n",
      "dtypes: float64(5), int64(5), object(16)\n",
      "memory usage: 41.8+ KB\n",
      "None\n"
     ]
    }
   ],
   "source": [
    "# we now read the csv file into pandas and we will name the features. The names are available from the website\n",
    "\n",
    "names = ['symboling', 'normalized-losses', 'make', 'fuel-type', 'aspiration', 'num-of-doors', 'body-style',\n",
    "        'drive-wheels', 'engine-location', 'wheel-base', 'length', 'width', 'height', 'curb-weight', 'engine-type',\n",
    "        'num-of-cylinders', 'engine-size', 'fuel-system', 'bore', 'stroke',\n",
    "         'compression-rate', 'horsepower', 'peak-rpm', 'city-mpg', 'highway-mpg', 'price']\n",
    "\n",
    "data=pd.read_csv(\"/Users/krishnan/downloads/imports-85.data\",header=None,names=names)\n",
    "\n",
    "print(data.info())"
   ]
  },
  {
   "cell_type": "markdown",
   "metadata": {},
   "source": [
    "We can see that the dataframe comprises of both numerical and non-numerical data types. We will explore both of them during feature engineering. Now let us proceed to clean the data."
   ]
  },
  {
   "cell_type": "code",
   "execution_count": 3,
   "metadata": {},
   "outputs": [
    {
     "name": "stdout",
     "output_type": "stream",
     "text": [
      "(205, 24)\n",
      "0\n"
     ]
    }
   ],
   "source": [
    "# we will drop symboling and normalized-losses as it doesn't help us much in predicting prices.\n",
    "datacopy=data.copy() # create a copy of the original data\n",
    "datacopy=datacopy.drop(['symboling', 'normalized-losses'], axis=1)\n",
    "print(datacopy.shape) # explore the data\n",
    "print(datacopy.isnull().sum().sum()) # no missing values however the missing values were replaced with \"?\""
   ]
  },
  {
   "cell_type": "code",
   "execution_count": 4,
   "metadata": {},
   "outputs": [
    {
     "name": "stdout",
     "output_type": "stream",
     "text": [
      "Series([], Name: make, dtype: int64)\n",
      "Series([], Name: fuel-type, dtype: int64)\n",
      "Series([], Name: aspiration, dtype: int64)\n",
      "?    2\n",
      "Name: num-of-doors, dtype: int64\n",
      "Series([], Name: body-style, dtype: int64)\n",
      "Series([], Name: drive-wheels, dtype: int64)\n",
      "Series([], Name: engine-location, dtype: int64)\n",
      "Series([], Name: wheel-base, dtype: int64)\n",
      "Series([], Name: length, dtype: int64)\n",
      "Series([], Name: width, dtype: int64)\n",
      "Series([], Name: height, dtype: int64)\n",
      "Series([], Name: curb-weight, dtype: int64)\n",
      "Series([], Name: engine-type, dtype: int64)\n",
      "Series([], Name: num-of-cylinders, dtype: int64)\n",
      "Series([], Name: engine-size, dtype: int64)\n",
      "Series([], Name: fuel-system, dtype: int64)\n",
      "?    4\n",
      "Name: bore, dtype: int64\n",
      "?    4\n",
      "Name: stroke, dtype: int64\n",
      "Series([], Name: compression-rate, dtype: int64)\n",
      "?    2\n",
      "Name: horsepower, dtype: int64\n",
      "?    2\n",
      "Name: peak-rpm, dtype: int64\n",
      "Series([], Name: city-mpg, dtype: int64)\n",
      "Series([], Name: highway-mpg, dtype: int64)\n",
      "?    4\n",
      "Name: price, dtype: int64\n"
     ]
    },
    {
     "name": "stderr",
     "output_type": "stream",
     "text": [
      "/opt/anaconda3/lib/python3.8/site-packages/pandas/core/indexes/base.py:122: FutureWarning: elementwise comparison failed; returning scalar instead, but in the future will perform elementwise comparison\n",
      "  result = op(self.values, np.asarray(other))\n"
     ]
    }
   ],
   "source": [
    "for i in list(datacopy.columns):\n",
    "    count=data[i].value_counts()\n",
    "    count=count[count.index=='?']\n",
    "    print(count)\n",
    "    \n",
    "# we see that only a few indexes are missing, we will convert them to null values and drop them "
   ]
  },
  {
   "cell_type": "code",
   "execution_count": 5,
   "metadata": {},
   "outputs": [
    {
     "name": "stdout",
     "output_type": "stream",
     "text": [
      "make                0\n",
      "fuel-type           0\n",
      "aspiration          0\n",
      "num-of-doors        0\n",
      "body-style          0\n",
      "drive-wheels        0\n",
      "engine-location     0\n",
      "wheel-base          0\n",
      "length              0\n",
      "width               0\n",
      "height              0\n",
      "curb-weight         0\n",
      "engine-type         0\n",
      "num-of-cylinders    0\n",
      "engine-size         0\n",
      "fuel-system         0\n",
      "bore                0\n",
      "stroke              0\n",
      "compression-rate    0\n",
      "horsepower          0\n",
      "peak-rpm            0\n",
      "city-mpg            0\n",
      "highway-mpg         0\n",
      "price               0\n",
      "dtype: int64\n"
     ]
    }
   ],
   "source": [
    "datacopy=datacopy.replace(\"?\", np.nan)\n",
    "datacopy=datacopy.dropna()\n",
    "print(datacopy.isnull().sum()) # no more null values"
   ]
  },
  {
   "cell_type": "markdown",
   "metadata": {},
   "source": [
    "## Object type features"
   ]
  },
  {
   "cell_type": "code",
   "execution_count": 6,
   "metadata": {},
   "outputs": [
    {
     "name": "stdout",
     "output_type": "stream",
     "text": [
      "<class 'pandas.core.frame.DataFrame'>\n",
      "Int64Index: 193 entries, 0 to 204\n",
      "Data columns (total 10 columns):\n",
      " #   Column            Non-Null Count  Dtype \n",
      "---  ------            --------------  ----- \n",
      " 0   make              193 non-null    object\n",
      " 1   fuel-type         193 non-null    object\n",
      " 2   aspiration        193 non-null    object\n",
      " 3   num-of-doors      193 non-null    object\n",
      " 4   body-style        193 non-null    object\n",
      " 5   drive-wheels      193 non-null    object\n",
      " 6   engine-location   193 non-null    object\n",
      " 7   engine-type       193 non-null    object\n",
      " 8   num-of-cylinders  193 non-null    object\n",
      " 9   fuel-system       193 non-null    object\n",
      "dtypes: object(10)\n",
      "memory usage: 16.6+ KB\n",
      "None\n"
     ]
    }
   ],
   "source": [
    "# From the previous cells, we can see a number of different object type features.\n",
    "# But according to website, bore, horsepower, stroke, peak-rpm and price needs to be converted to float\n",
    "datacopy[['bore', 'horsepower', 'stroke', 'peak-rpm','price']]=datacopy[['bore', 'horsepower', 'stroke',\n",
    "                                                                         'peak-rpm','price']].astype(float)\n",
    "obj_data=datacopy.select_dtypes(include=object)\n",
    "print(obj_data.info())"
   ]
  },
  {
   "cell_type": "code",
   "execution_count": 7,
   "metadata": {},
   "outputs": [
    {
     "name": "stdout",
     "output_type": "stream",
     "text": [
      "toyota           32\n",
      "nissan           18\n",
      "mitsubishi       13\n",
      "honda            13\n",
      "subaru           12\n",
      "mazda            12\n",
      "volkswagen       12\n",
      "volvo            11\n",
      "peugot           11\n",
      "mercedes-benz     8\n",
      "bmw               8\n",
      "dodge             8\n",
      "plymouth          7\n",
      "audi              6\n",
      "saab              6\n",
      "porsche           4\n",
      "chevrolet         3\n",
      "alfa-romero       3\n",
      "jaguar            3\n",
      "isuzu             2\n",
      "mercury           1\n",
      "Name: make, dtype: int64\n",
      "gas       174\n",
      "diesel     19\n",
      "Name: fuel-type, dtype: int64\n",
      "std      158\n",
      "turbo     35\n",
      "Name: aspiration, dtype: int64\n",
      "four    112\n",
      "two      81\n",
      "Name: num-of-doors, dtype: int64\n",
      "sedan          92\n",
      "hatchback      63\n",
      "wagon          24\n",
      "hardtop         8\n",
      "convertible     6\n",
      "Name: body-style, dtype: int64\n",
      "fwd    114\n",
      "rwd     71\n",
      "4wd      8\n",
      "Name: drive-wheels, dtype: int64\n",
      "front    190\n",
      "rear       3\n",
      "Name: engine-location, dtype: int64\n",
      "ohc     141\n",
      "ohcf     15\n",
      "ohcv     13\n",
      "l        12\n",
      "dohc     12\n",
      "Name: engine-type, dtype: int64\n",
      "four      153\n",
      "six        24\n",
      "five       10\n",
      "eight       4\n",
      "twelve      1\n",
      "three       1\n",
      "Name: num-of-cylinders, dtype: int64\n",
      "mpfi    88\n",
      "2bbl    64\n",
      "idi     19\n",
      "1bbl    11\n",
      "spdi     9\n",
      "spfi     1\n",
      "mfi      1\n",
      "Name: fuel-system, dtype: int64\n"
     ]
    }
   ],
   "source": [
    "# All of them are categorical feature, so we will convert them to category dtype.\n",
    "obj_data=obj_data.astype('category')\n",
    "\n",
    "# we will now drop features that doesn't vary much in the data frame\n",
    "for column in obj_data.columns:\n",
    "    count=obj_data[column].value_counts()\n",
    "\n",
    "    print(count)\n",
    "# here engine location is a feature that doesn't vary at all. So we will drop it.\n",
    "obj_data=obj_data.drop(['engine-location'], axis=1)\n",
    "    "
   ]
  },
  {
   "cell_type": "code",
   "execution_count": 8,
   "metadata": {},
   "outputs": [],
   "source": [
    "# we will now create dummy features from the categorical features\n",
    "# code dummies\n",
    "for col in list(obj_data.columns):\n",
    "    col_dummies = pd.get_dummies(obj_data[col])\n",
    "    obj_data = pd.concat([obj_data, col_dummies], axis=1)\n",
    "    del obj_data[col]"
   ]
  },
  {
   "cell_type": "markdown",
   "metadata": {},
   "source": [
    "## Numerical features"
   ]
  },
  {
   "cell_type": "code",
   "execution_count": 9,
   "metadata": {},
   "outputs": [
    {
     "data": {
      "text/plain": [
       "<matplotlib.axes._subplots.AxesSubplot at 0x7fa88043c400>"
      ]
     },
     "execution_count": 9,
     "metadata": {},
     "output_type": "execute_result"
    },
    {
     "data": {
      "image/png": "[encoded data removed]",
      "text/plain": [
       "<Figure size 432x288 with 2 Axes>"
      ]
     },
     "metadata": {
      "needs_background": "light"
     },
     "output_type": "display_data"
    }
   ],
   "source": [
    "num_data=datacopy.select_dtypes(exclude=object)\n",
    "\n",
    "# we will look at the correlation of the different features and the price\n",
    "num_features=list(num_data.columns)\n",
    "correlations=num_data[num_features].corr()\n",
    "sns.heatmap(correlations)"
   ]
  },
  {
   "cell_type": "code",
   "execution_count": 10,
   "metadata": {},
   "outputs": [],
   "source": [
    "# clearly the compression-rate,stroke and peak-rpm has a correlation coefficient near 0. So we will drop these.\n",
    "# We can also see heavy collinearity between city-mpg and highway-mpg. So we will drop highway-mpg for now.\n",
    "num_data=num_data.drop(['stroke','compression-rate','peak-rpm','highway-mpg'], axis=1)"
   ]
  },
  {
   "cell_type": "markdown",
   "metadata": {},
   "source": [
    "## Training and testing"
   ]
  },
  {
   "cell_type": "code",
   "execution_count": 11,
   "metadata": {},
   "outputs": [
    {
     "name": "stdout",
     "output_type": "stream",
     "text": [
      "1315.6828413648122\n"
     ]
    }
   ],
   "source": [
    "# final data\n",
    "final_data=pd.concat([num_data,obj_data], axis=1)\n",
    "\n",
    "# randomizing the final data\n",
    "final_data = final_data.sample(frac=1,random_state=1).reset_index(drop=True)\n",
    "\n",
    "# setting up the features\n",
    "features=list(final_data.columns)\n",
    "features.remove('price')\n",
    "\n",
    "# train/test data, 80/20 split\n",
    "train=final_data.sample(154)\n",
    "test=final_data.sample(39)\n",
    "lr=LinearRegression()\n",
    "lr.fit(train[features], train['price'])\n",
    "predictions=lr.predict(test[features])\n",
    "rmse=mean_squared_error(predictions,test['price'])**0.5\n",
    "print(rmse)"
   ]
  },
  {
   "cell_type": "code",
   "execution_count": 12,
   "metadata": {},
   "outputs": [
    {
     "name": "stdout",
     "output_type": "stream",
     "text": [
      "45400.0\n",
      "5118.0\n"
     ]
    }
   ],
   "source": [
    "print(final_data['price'].max())\n",
    "print(final_data['price'].min())"
   ]
  },
  {
   "cell_type": "code",
   "execution_count": 13,
   "metadata": {},
   "outputs": [],
   "source": [
    "# comparing with the minimum and maximum values of price, the rmse does't look too bad. We will now proceed\n",
    "# to perform k-fold cross validation to get and ideal value of k."
   ]
  },
  {
   "cell_type": "markdown",
   "metadata": {},
   "source": [
    "## K-fold cross validation"
   ]
  },
  {
   "cell_type": "code",
   "execution_count": 14,
   "metadata": {},
   "outputs": [],
   "source": [
    "# we will construct a kfold validator function with mean squared error as the scoring criteria\n",
    "def kfold_validator_rmse(data,target,features,kfold):\n",
    "    lr=LinearRegression()\n",
    "    kf=KFold(kfold, shuffle=True, random_state=1)\n",
    "    mses = cross_val_score(lr,data[features],data[target],scoring='neg_mean_squared_error',cv=kf)\n",
    "    rmses=np.sqrt(abs(mses))\n",
    "    mean_rmse= np.mean(rmses)\n",
    "    sd=np.sqrt(st.variance(rmses))\n",
    "    list=[mean_rmse,sd]\n",
    "    return list\n",
    "# we will also construct a kfold validator function with r2 as the scoring criteria\n",
    "def kfold_validator_r2(data,target,features,kfold):\n",
    "    lr=LinearRegression()\n",
    "    kf=KFold(kfold, shuffle=True, random_state=1)\n",
    "    mses = cross_val_score(lr,data[features],data[target],scoring='r2',cv=kf)\n",
    "    rmses=np.sqrt(abs(mses))\n",
    "    mean_rmse= np.mean(rmses)\n",
    "    sd=np.sqrt(st.variance(rmses))\n",
    "    list=[mean_rmse,sd]\n",
    "    return list\n"
   ]
  },
  {
   "cell_type": "code",
   "execution_count": 15,
   "metadata": {},
   "outputs": [
    {
     "data": {
      "image/png": "[encoded data removed]",
      "text/plain": [
       "<Figure size 432x288 with 1 Axes>"
      ]
     },
     "metadata": {
      "needs_background": "light"
     },
     "output_type": "display_data"
    }
   ],
   "source": [
    "# we will now look at the optimal k value for k-fold cross validation\n",
    "rmses=[]\n",
    "sd=[]\n",
    "for i in range(2,30):\n",
    "    result=kfold_validator_rmse(final_data,'price',features,i)\n",
    "    rmses.append(result[0])\n",
    "    sd.append(result[1])\n",
    "\n",
    "plt.plot(range(2,30),rmses)\n",
    "plt.show()\n",
    "# so the rmse value begins to decrease around the k=4 mark"
   ]
  },
  {
   "cell_type": "code",
   "execution_count": 16,
   "metadata": {},
   "outputs": [
    {
     "data": {
      "image/png": "[encoded data removed]",
      "text/plain": [
       "<Figure size 432x288 with 1 Axes>"
      ]
     },
     "metadata": {
      "needs_background": "light"
     },
     "output_type": "display_data"
    }
   ],
   "source": [
    "plt.plot(range(2,30),sd)\n",
    "plt.show()\n",
    "# the standard deviation begins to increase from k=5.\n",
    "# therefore we can take the optimal value of k to be 4"
   ]
  },
  {
   "cell_type": "code",
   "execution_count": 17,
   "metadata": {},
   "outputs": [
    {
     "name": "stdout",
     "output_type": "stream",
     "text": [
      "[0.9364509343886858, 0.030230775735750566]\n"
     ]
    }
   ],
   "source": [
    "# now let us find the r2 score using k=4\n",
    "print(kfold_validator_r2(final_data,'price',features,4))\n",
    "\n",
    "# this means that the the features we used and the target feature have a strong correlation. (Please correct me if\n",
    "# if I am wrong)"
   ]
  },
  {
   "cell_type": "markdown",
   "metadata": {},
   "source": [
    "In conclusion, we can say that our model is not that great, but can pass as a rough prediction model. We could improve the model getting a larger dataset or doing a bit more advanced analysis into feature engineering."
   ]
  },
  {
   "cell_type": "code",
   "execution_count": null,
   "metadata": {},
   "outputs": [],
   "source": []
  }
 ],
 "metadata": {
  "kernelspec": {
   "display_name": "Python 3",
   "language": "python",
   "name": "python3"
  },
  "language_info": {
   "codemirror_mode": {
    "name": "ipython",
    "version": 3
   },
   "file_extension": ".py",
   "mimetype": "text/x-python",
   "name": "python",
   "nbconvert_exporter": "python",
   "pygments_lexer": "ipython3",
   "version": "3.8.3"
  }
 },
 "nbformat": 4,
 "nbformat_minor": 4
}
